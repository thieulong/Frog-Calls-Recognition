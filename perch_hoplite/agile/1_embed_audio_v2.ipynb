{
  "cells": [
    {
      "cell_type": "code",
      "execution_count": null,
      "metadata": {
        "cellView": "form",
        "id": "GTtVnkC-6_i7"
      },
      "outputs": [],
      "source": [
        "#@title Imports\n",
        "from IPython.display import display\n",
        "import ipywidgets as widgets\n",
        "from etils import epath\n",
        "\n",
        "from perch_hoplite.agile import colab_utils\n",
        "from perch_hoplite.agile import embed\n",
        "from perch_hoplite.agile import source_info\n",
        "from perch_hoplite.db import interface\n",
        "from perch_hoplite.db import brutalism"
      ]
    },
    {
      "cell_type": "markdown",
      "metadata": {
        "id": "4T4vILrO80iP"
      },
      "source": [
        "## Embed"
      ]
    },
    {
      "cell_type": "code",
      "execution_count": null,
      "metadata": {
        "id": "c6zdGxl68vft"
      },
      "outputs": [],
      "source": [
        "#@title Configuration { vertical-output: true }\n",
        "\n",
        "#@markdown Configure the raw dataset location(s).  The format is a mapping from\n",
        "#@markdown a dataset_name to a (base_path, fileglob) pair.  Note that the file\n",
        "#@markdown globs are case sensitive.  The dataset name can be anything you want.\n",
        "#\n",
        "#@markdown This structure allows you to move your data around without having to\n",
        "#@markdown re-embed the dataset.  The generated embedding database will be\n",
        "#@markdown placed in the base path. This allows you to simply swap out\n",
        "#@markdown the base path here if you ever move your dataset.\n",
        "\n",
        "#@markdown By default we only process one dataset at a time.  Re-run this entire notebook\n",
        "#@markdown once per dataset.  The embeddings database will be located in the\n",
        "#@markdown database_base_path.\n",
        "\n",
        "#@markdown For example, we might set dataset_base_path to '/home/me/myproject',\n",
        "#@markdown and use the glob '*/*.wav' if all of the audio files have filepaths\n",
        "#@markdown like '/home/me/myproject/site_XYZ/audio_ABC.wav'\n",
        "dataset_name = ''  #@param {type:'string'}\n",
        "dataset_base_path = ''  #@param {type:'string'}\n",
        "dataset_fileglob = '*.wav'  #@param {type:'string'}\n",
        "#@markdown You do not need to change this unless you want to maintain multiple\n",
        "#@markdown distinct embedding databases.\n",
        "db_path = None #@param\n",
        "\n",
        "#@markdown Choose a supported model: `perch_8` or `birdnet_v2.3` are most common\n",
        "#@markdown for birds. Other choices include `surfperch` for coral reefs or\n",
        "#@markdown `multispecies_whale` for marine mammals.\n",
        "model_choice = 'perch_8'  #@param['perch_8', 'humpback', 'multispecies_whale', 'surfperch', 'birdnet_V2.3']\n",
        "\n",
        "#@markdown File sharding automatically splits audio files into one-minute chunks\n",
        "#@markdown for embedding. This limits both system and GPU memory usage,\n",
        "#@markdown especially useful when working with long files (\u003e1 hour).\n",
        "use_file_sharding = True  #@param {type:'boolean'}\n",
        "\n",
        "audio_glob = source_info.AudioSourceConfig(\n",
        "    dataset_name=dataset_name,\n",
        "    base_path=dataset_base_path,\n",
        "    file_glob=dataset_fileglob,\n",
        "    min_audio_len_s=1.0,\n",
        "    target_sample_rate_hz=-2,\n",
        "    shard_len_s=60.0 if use_file_sharding else None,\n",
        ")\n",
        "\n",
        "configs = colab_utils.load_configs(\n",
        "    source_info.AudioSources((audio_glob,)),\n",
        "    db_path,\n",
        "    model_config_key=model_choice,\n",
        "    db_key = 'sqlite_usearch')\n",
        "configs"
      ]
    },
    {
      "cell_type": "code",
      "execution_count": null,
      "metadata": {
        "cellView": "form",
        "id": "NN9Uyy1yqAWS"
      },
      "outputs": [],
      "source": [
        "#@title Initialize the DB { vertical-output: true }\n",
        "global db\n",
        "db = configs.db_config.load_db()\n",
        "num_embeddings = db.count_embeddings()\n",
        "\n",
        "print('Initialized DB located at ', configs.db_config.db_config.db_path)\n",
        "\n",
        "def drop_and_reload_db(_) -\u003e interface.HopliteDBInterface:\n",
        "  db_path = epath.Path(configs.db_config.db_config.db_path)\n",
        "  for fp in db_path.glob('hoplite.sqlite*'):\n",
        "    fp.unlink()\n",
        "  (db_path / 'usearch.index').unlink()\n",
        "  print('\\n Deleted previous db at: ', configs.db_config.db_config.db_path)\n",
        "  db = configs.db_config.load_db()\n",
        "\n",
        "drop_existing_db = True  #@param[True, False]\n",
        "\n",
        "if num_embeddings \u003e 0 and drop_existing_db:\n",
        "  print('Existing DB contains datasets: ', db.get_dataset_names())\n",
        "  print('num embeddings: ', num_embeddings)\n",
        "  print('\\n\\nClick the button below to confirm you really want to drop the database at ')\n",
        "  print(f'{configs.db_config.db_config.db_path}\\n')\n",
        "  print(f'This will permanently delete all {num_embeddings} embeddings from the existing database.\\n')\n",
        "  print('If you do NOT want to delete this data, set `drop_existing_db` above to `False` and re-run this cell.\\n')\n",
        "\n",
        "  button = widgets.Button(description='Delete database?')\n",
        "  button.on_click(drop_and_reload_db)\n",
        "  display(button)"
      ]
    },
    {
      "cell_type": "code",
      "execution_count": null,
      "metadata": {
        "cellView": "form",
        "id": "MnGWbhc0LhiU"
      },
      "outputs": [],
      "source": [
        "#@title Run the embedding { vertical-output: true }\n",
        "\n",
        "print(f'Embedding dataset: {audio_glob.dataset_name}')\n",
        "\n",
        "worker = embed.EmbedWorker(\n",
        "    audio_sources=configs.audio_sources_config,\n",
        "    db=db,\n",
        "    model_config=configs.model_config)\n",
        "\n",
        "worker.process_all(target_dataset_name=audio_glob.dataset_name)\n",
        "\n",
        "print('\\n\\nEmbedding complete, total embeddings: ', db.count_embeddings())"
      ]
    },
    {
      "cell_type": "code",
      "execution_count": null,
      "metadata": {
        "cellView": "form",
        "id": "HvVuFw-somHe"
      },
      "outputs": [],
      "source": [
        "#@title Per dataset statistics { vertical-output: true }\n",
        "\n",
        "for dataset in db.get_dataset_names():\n",
        "  print(f'\\nDataset \\'{dataset}\\':')\n",
        "  print('\\tnum embeddings: ', db.get_embeddings_by_source(dataset, source_id=None).shape[0])"
      ]
    },
    {
      "cell_type": "code",
      "execution_count": null,
      "metadata": {
        "cellView": "form",
        "collapsed": true,
        "id": "ihBNRbwuuwal"
      },
      "outputs": [],
      "source": [
        "#@title Show example embedding\n",
        "\n",
        "q = db.get_embedding(db.get_one_embedding_id())\n",
        "%time results, scores = brutalism.brute_search(worker.db, query_embedding=q, search_list_size=128, score_fn=np.dot)\n",
        "print([int(r.embedding_id) for r in results])"
      ]
    }
  ],
  "metadata": {
    "colab": {
      "last_runtime": {
        "build_target": "//third_party/py/chirp:colab_binary",
        "kind": "shared"
      },
      "name": "v2_1_embed_unlabeled_audio.ipynb",
      "private_outputs": true,
      "provenance": [
        {
          "file_id": "1ePT3-fDB3kA3_T7trthFtu8xTJQWQBoQ",
          "timestamp": 1723499538314
        }
      ],
      "toc_visible": true
    },
    "kernelspec": {
      "display_name": "Python 3",
      "name": "python3"
    },
    "language_info": {
      "name": "python"
    }
  },
  "nbformat": 4,
  "nbformat_minor": 0
}
